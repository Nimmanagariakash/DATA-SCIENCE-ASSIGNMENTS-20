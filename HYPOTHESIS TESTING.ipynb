{
  "nbformat": 4,
  "nbformat_minor": 0,
  "metadata": {
    "colab": {
      "provenance": []
    },
    "kernelspec": {
      "name": "python3",
      "display_name": "Python 3"
    },
    "language_info": {
      "name": "python"
    }
  },
  "cells": [
    {
      "cell_type": "markdown",
      "source": [
        "# CHI-SQUARE TEST"
      ],
      "metadata": {
        "id": "2KRSlnoOm7qy"
      }
    },
    {
      "cell_type": "code",
      "source": [
        "import pandas as pd\n"
      ],
      "metadata": {
        "id": "E9cbF6wiqwMV"
      },
      "execution_count": 47,
      "outputs": []
    },
    {
      "cell_type": "code",
      "execution_count": 48,
      "metadata": {
        "id": "JLupNU4Omh4U",
        "colab": {
          "base_uri": "https://localhost:8080/"
        },
        "outputId": "e67c7821-845e-45a2-fb58-e9df8d4ac258"
      },
      "outputs": [
        {
          "output_type": "stream",
          "name": "stdout",
          "text": [
            "       Satisfaction  Smart Thermostat  Smart Light  Total\n",
            "0    Very Satisfied                50           70    120\n",
            "1         Satisfied                80          100    180\n",
            "2           Neutral                60           90    150\n",
            "3       Unsatisfied                30           50     80\n",
            "4  Very Unsatisfied                20           50     70\n",
            "5             Total               240          360    600\n",
            "\n",
            "# CHI-SQUARE TEST\n"
          ]
        }
      ],
      "source": [
        "#reading and printing data\n",
        "data = {'Satisfaction': ['Very Satisfied', 'Satisfied', 'Neutral', 'Unsatisfied', 'Very Unsatisfied', 'Total'],\n",
        "        'Smart Thermostat': [50, 80, 60, 30, 20, 240],\n",
        "        'Smart Light': [70, 100, 90, 50, 50, 360],\n",
        "        'Total': [120, 180, 150, 80, 70, 600]}\n",
        "\n",
        "df = pd.DataFrame(data)\n",
        "print(df)\n",
        "\n",
        "print(\"\\n# CHI-SQUARE TEST\")"
      ]
    },
    {
      "cell_type": "markdown",
      "source": [
        "1. State the Hypotheses:"
      ],
      "metadata": {
        "id": "NIXQAXkirMpk"
      }
    },
    {
      "cell_type": "code",
      "source": [
        "# A hypothesis is an educated guess or assumption that is made based on evidence and used to predict what will happen in an experiment. It is a tentative answer to a research question that has not yet been tested.\n",
        "# Null Hypothesis (H0): There is no association between customer satisfaction and the type of smart home device.\n",
        "# Alternative Hypothesis (H1): There is a significant association between customer satisfaction and the type of smart home device."
      ],
      "metadata": {
        "id": "xfsWd0CfqCRg"
      },
      "execution_count": 49,
      "outputs": []
    },
    {
      "cell_type": "markdown",
      "source": [
        "2. Compute the Chi-Square Statistic:"
      ],
      "metadata": {
        "id": "QoZHyOlnrhx1"
      }
    },
    {
      "cell_type": "code",
      "source": [
        "\n",
        "from scipy.stats import chi2_contingency\n",
        "df = pd.DataFrame(data)\n",
        "print(df)\n",
        "print(\"\\n# CHI-SQUARE TEST\")\n",
        "contingency_table = df[['Smart Thermostat', 'Smart Light']].iloc[:-1]\n",
        "\n",
        "# Perform the chi-square test\n",
        "chi2, p, dof, expected = chi2_contingency(contingency_table)\n",
        "\n",
        "print(f\"\\nChi-Square Statistic: {chi2}\")\n",
        "print(f\"P-value: {p}\")\n",
        "print(f\"Degrees of Freedom: {dof}\")\n",
        "print(\"\\nExpected Frequencies:\\n\", expected)"
      ],
      "metadata": {
        "colab": {
          "base_uri": "https://localhost:8080/"
        },
        "id": "-1JS4Rjzrgg4",
        "outputId": "822ec91b-926a-4c91-8b6c-ea3422997e97"
      },
      "execution_count": 50,
      "outputs": [
        {
          "output_type": "stream",
          "name": "stdout",
          "text": [
            "       Satisfaction  Smart Thermostat  Smart Light  Total\n",
            "0    Very Satisfied                50           70    120\n",
            "1         Satisfied                80          100    180\n",
            "2           Neutral                60           90    150\n",
            "3       Unsatisfied                30           50     80\n",
            "4  Very Unsatisfied                20           50     70\n",
            "5             Total               240          360    600\n",
            "\n",
            "# CHI-SQUARE TEST\n",
            "\n",
            "Chi-Square Statistic: 5.638227513227513\n",
            "P-value: 0.22784371130697179\n",
            "Degrees of Freedom: 4\n",
            "\n",
            "Expected Frequencies:\n",
            " [[ 48.  72.]\n",
            " [ 72. 108.]\n",
            " [ 60.  90.]\n",
            " [ 32.  48.]\n",
            " [ 28.  42.]]\n"
          ]
        }
      ]
    },
    {
      "cell_type": "markdown",
      "source": [
        "3. Determine the Critical Value:"
      ],
      "metadata": {
        "id": "lr7sEVoTsD1x"
      }
    },
    {
      "cell_type": "code",
      "source": [
        "#  Determine the Critical Value\n",
        "import pandas as pd\n",
        "from scipy.stats import chi2_contingency\n",
        "from scipy.stats import chi2\n",
        "\n",
        "# Provided data\n",
        "data = {'Satisfaction': ['Very Satisfied', 'Satisfied', 'Neutral', 'Unsatisfied', 'Very Unsatisfied', 'Total'],\n",
        "        'Smart Thermostat': [50, 80, 60, 30, 20, 240],\n",
        "        'Smart Light': [70, 100, 90, 50, 50, 360],\n",
        "        'Total': [120, 180, 150, 80, 70, 600]}\n",
        "\n",
        "df = pd.DataFrame(data)\n",
        "\n",
        "# Contingency table\n",
        "contingency_table = df[['Smart Thermostat', 'Smart Light']].iloc[:-1]\n",
        "\n",
        "# Chi-square test\n",
        "chi2_stat, p_val, dof, expected = chi2_contingency(contingency_table)\n",
        "\n",
        "# Significance level (alpha)\n",
        "alpha = 0.05  # You can change this value\n",
        "\n",
        "# Determine the critical value\n",
        "critical_value = chi2.ppf(1 - alpha, dof)\n",
        "\n",
        "print(f\"\\nChi-Square Statistic: {chi2_stat}\")\n",
        "print(f\"P-value: {p_val}\")\n",
        "print(f\"Degrees of Freedom: {dof}\")\n",
        "print(f\"Critical Value: {critical_value}\")\n",
        "\n",
        "# Compare chi2_stat with critical value\n",
        "if chi2_stat >= critical_value:\n",
        "    print(\"\\nReject the null hypothesis.\")\n",
        "else:\n",
        "    print(\"\\nFail to reject the null hypothesis.\")"
      ],
      "metadata": {
        "colab": {
          "base_uri": "https://localhost:8080/"
        },
        "id": "zoaf_GEAsZjl",
        "outputId": "56c089ac-d1ec-4332-c13d-5d9c0b1dd891"
      },
      "execution_count": 51,
      "outputs": [
        {
          "output_type": "stream",
          "name": "stdout",
          "text": [
            "\n",
            "Chi-Square Statistic: 5.638227513227513\n",
            "P-value: 0.22784371130697179\n",
            "Degrees of Freedom: 4\n",
            "Critical Value: 9.487729036781154\n",
            "\n",
            "Fail to reject the null hypothesis.\n"
          ]
        }
      ]
    },
    {
      "cell_type": "markdown",
      "source": [
        "4. Make a Decision:"
      ],
      "metadata": {
        "id": "fOWQlBics-Kg"
      }
    },
    {
      "cell_type": "code",
      "source": [
        "# Compare chi2_stat with critical value\n",
        "if chi2_stat >= critical_value:\n",
        "    print(\"\\nReject the null hypothesis.\")\n",
        "else:\n",
        "    print(\"\\nFail to reject the null hypothesis.\")"
      ],
      "metadata": {
        "colab": {
          "base_uri": "https://localhost:8080/"
        },
        "id": "V5A-XxlOfvzA",
        "outputId": "a9742cb1-d746-456f-a8ed-cefae82f17ef"
      },
      "execution_count": 52,
      "outputs": [
        {
          "output_type": "stream",
          "name": "stdout",
          "text": [
            "\n",
            "Fail to reject the null hypothesis.\n"
          ]
        }
      ]
    },
    {
      "cell_type": "code",
      "source": [
        "# Compare the Chi-Square statistic with the critical value to decide whether to reject the null hypothesis.\n",
        "# The provided code already includes the decision-making process.\n",
        "# No further code is needed to fulfill the prompt's request."
      ],
      "metadata": {
        "id": "DVCkdbuDsnOh"
      },
      "execution_count": 53,
      "outputs": []
    },
    {
      "cell_type": "markdown",
      "source": [
        "# HYPOTHESIS TESTING\n"
      ],
      "metadata": {
        "id": "uAwntR5AtSUV"
      }
    },
    {
      "cell_type": "markdown",
      "source": [
        "1. State the Hypotheses statement:\n"
      ],
      "metadata": {
        "id": "M1gZtzdNucqr"
      }
    },
    {
      "cell_type": "code",
      "source": [
        "# 1. State the Hypotheses:\n",
        "# Null Hypothesis (H0): There is no association between customer satisfaction and the type of smart home device.\n",
        "# Alternative Hypothesis (H1): There is a significant association between customer satisfaction and the type of smart home device."
      ],
      "metadata": {
        "id": "uqkfPcCRtRYg"
      },
      "execution_count": 54,
      "outputs": []
    },
    {
      "cell_type": "markdown",
      "source": [
        "2. Calculate the Test Statistic:"
      ],
      "metadata": {
        "id": "33-TNqfHu0ct"
      }
    },
    {
      "cell_type": "code",
      "source": [
        "# Given values\n",
        "x_bar = 3050\n",
        "mu = 1000 + 5 * 600  # Calculate theoretical mean weekly cost\n",
        "sigma = 5 * 25\n",
        "n = 25\n",
        "\n",
        "# Calculate the test statistic (t)\n",
        "t = (x_bar - mu) / (sigma / (n**0.5))\n",
        "\n",
        "print(f\"Test Statistic (t): {t}\")"
      ],
      "metadata": {
        "colab": {
          "base_uri": "https://localhost:8080/"
        },
        "id": "FyzKCtv-uhyj",
        "outputId": "59158e2f-1993-4920-d0b7-2c0fba78af9e"
      },
      "execution_count": 55,
      "outputs": [
        {
          "output_type": "stream",
          "name": "stdout",
          "text": [
            "Test Statistic (t): -38.0\n"
          ]
        }
      ]
    },
    {
      "cell_type": "markdown",
      "source": [
        "3. Determine the Critical Value:"
      ],
      "metadata": {
        "id": "WKR7Zb7CvBvE"
      }
    },
    {
      "cell_type": "code",
      "source": [
        "# Using the alpha level of 5% (α = 0.05), determine the critical value from the standard normal (Z) distribution table.\n",
        "\n",
        "from scipy.stats import norm\n",
        "\n",
        "alpha = 0.05  # Significance level\n",
        "\n",
        "# For a two-tailed test\n",
        "critical_value = norm.ppf(1 - alpha / 2)\n",
        "\n",
        "print(f\"Critical Value (Z): {critical_value}\")"
      ],
      "metadata": {
        "colab": {
          "base_uri": "https://localhost:8080/"
        },
        "id": "IjeCNuIUgFLv",
        "outputId": "84f6d016-d068-4424-cc66-a5cc6c9a45aa"
      },
      "execution_count": 56,
      "outputs": [
        {
          "output_type": "stream",
          "name": "stdout",
          "text": [
            "Critical Value (Z): 1.959963984540054\n"
          ]
        }
      ]
    },
    {
      "cell_type": "markdown",
      "source": [
        "4. Make a Decision:"
      ],
      "metadata": {
        "id": "GHvnqaQTvUQO"
      }
    },
    {
      "cell_type": "code",
      "source": [
        "# Compare the test statistic with the critical value\n",
        "if abs(t) > critical_value:\n",
        "    print(\"\\nReject the null hypothesis.\")\n",
        "else:\n",
        "    print(\"\\nFail to reject the null hypothesis.\")"
      ],
      "metadata": {
        "colab": {
          "base_uri": "https://localhost:8080/"
        },
        "id": "oBcLn5ANhw1P",
        "outputId": "d0d09d5e-efee-4527-ff12-56b365b6f366"
      },
      "execution_count": 57,
      "outputs": [
        {
          "output_type": "stream",
          "name": "stdout",
          "text": [
            "\n",
            "Reject the null hypothesis.\n"
          ]
        }
      ]
    },
    {
      "cell_type": "markdown",
      "source": [
        "5. Conclusion:"
      ],
      "metadata": {
        "id": "JJoA-U8Ov3j7"
      }
    },
    {
      "cell_type": "code",
      "source": [
        "# Compare the test statistic with the critical value\n",
        "if abs(t) > critical_value:\n",
        "    print(\"\\nReject the null hypothesis.\")\n",
        "    print(\"There is strong evidence to support the restaurant owners' claim that the weekly operating costs are higher than the model suggests.\")\n",
        "else:\n",
        "    print(\"\\nFail to reject the null hypothesis.\")\n",
        "    print(\"There is not strong evidence to support the restaurant owners' claim that the weekly operating costs are higher than the model suggests.\")"
      ],
      "metadata": {
        "colab": {
          "base_uri": "https://localhost:8080/"
        },
        "id": "detUX8Z2h_2j",
        "outputId": "7d8e479a-05d7-4ca7-b087-f04d72116f87"
      },
      "execution_count": 58,
      "outputs": [
        {
          "output_type": "stream",
          "name": "stdout",
          "text": [
            "\n",
            "Reject the null hypothesis.\n",
            "There is strong evidence to support the restaurant owners' claim that the weekly operating costs are higher than the model suggests.\n"
          ]
        }
      ]
    },
    {
      "cell_type": "code",
      "source": [],
      "metadata": {
        "id": "ptCBG4cLibq4"
      },
      "execution_count": 58,
      "outputs": []
    }
  ]
}