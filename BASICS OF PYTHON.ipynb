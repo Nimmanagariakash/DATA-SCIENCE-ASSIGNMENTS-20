{
  "nbformat": 4,
  "nbformat_minor": 0,
  "metadata": {
    "colab": {
      "provenance": []
    },
    "kernelspec": {
      "name": "python3",
      "display_name": "Python 3"
    },
    "language_info": {
      "name": "python"
    }
  },
  "cells": [
    {
      "cell_type": "markdown",
      "source": [
        "ASSIGNMENT-3\n",
        "PYTHON PROGRAMMING\n"
      ],
      "metadata": {
        "id": "BQ-1AbCvamPA"
      }
    },
    {
      "cell_type": "markdown",
      "source": [
        "Exercise 1: Prime Numbers"
      ],
      "metadata": {
        "id": "JAtqf2zGfh3o"
      }
    },
    {
      "cell_type": "code",
      "source": [
        "#prime number program\n",
        "no=int(input(\"enter a number\"))\n",
        "if no>1:\n",
        "  for i in range(2,no):\n",
        "    if (no%i)==0:\n",
        "      print(no,\"is not a prime number\")\n",
        "      break\n",
        "  else:\n",
        "    print(no,\"is a prime number\")"
      ],
      "metadata": {
        "colab": {
          "base_uri": "https://localhost:8080/"
        },
        "id": "ci9J8OtnbOIS",
        "outputId": "05974d90-2c6a-4778-f01c-c4d042349b74"
      },
      "execution_count": 3,
      "outputs": [
        {
          "output_type": "stream",
          "name": "stdout",
          "text": [
            "enter a number5\n",
            "5 is a prime number\n"
          ]
        }
      ]
    },
    {
      "cell_type": "markdown",
      "source": [
        "Exercise 2: Product of Random Numbers"
      ],
      "metadata": {
        "id": "4PUWAmKsfuU9"
      }
    },
    {
      "cell_type": "code",
      "source": [
        "num1=random.randint(1,10)\n",
        "num2=random.randint(1,10)\n",
        "correct_product=num1*num2\n",
        "print(f\"What is the product of {num1} and {num2}?\")\n",
        "user_answer=int(input())\n",
        "if user_answer==correct_product:\n",
        "  print(\"Congratulations! Your answer is correct.\")\n",
        "else:\n",
        "  print(f\"Sorry, that's incorrect. The correct answer is {correct_product}.\")"
      ],
      "metadata": {
        "colab": {
          "base_uri": "https://localhost:8080/"
        },
        "id": "EzteyPfWfMQo",
        "outputId": "52a23ee6-01d3-4f41-9f1d-a150505b1c0d"
      },
      "execution_count": 6,
      "outputs": [
        {
          "output_type": "stream",
          "name": "stdout",
          "text": [
            "What is the product of 8 and 4?\n",
            "32\n",
            "Congratulations! Your answer is correct.\n"
          ]
        }
      ]
    },
    {
      "cell_type": "markdown",
      "source": [
        "Exercise 3: Squares of Even Numbers"
      ],
      "metadata": {
        "id": "GaZ6n5GAf8YJ"
      }
    },
    {
      "cell_type": "code",
      "source": [
        "for number in range(100, 200):\n",
        "  if number % 2 == 0:  # Check if the number is even\n",
        "    square = number ** 2\n",
        "    print(f\"The square of {number} is {square}\")"
      ],
      "metadata": {
        "colab": {
          "base_uri": "https://localhost:8080/"
        },
        "id": "8kEm0hkPhl2z",
        "outputId": "85c77018-817b-49d8-d794-391111ef0eac"
      },
      "execution_count": 15,
      "outputs": [
        {
          "output_type": "stream",
          "name": "stdout",
          "text": [
            "The square of 100 is 10000\n",
            "The square of 102 is 10404\n",
            "The square of 104 is 10816\n",
            "The square of 106 is 11236\n",
            "The square of 108 is 11664\n",
            "The square of 110 is 12100\n",
            "The square of 112 is 12544\n",
            "The square of 114 is 12996\n",
            "The square of 116 is 13456\n",
            "The square of 118 is 13924\n",
            "The square of 120 is 14400\n",
            "The square of 122 is 14884\n",
            "The square of 124 is 15376\n",
            "The square of 126 is 15876\n",
            "The square of 128 is 16384\n",
            "The square of 130 is 16900\n",
            "The square of 132 is 17424\n",
            "The square of 134 is 17956\n",
            "The square of 136 is 18496\n",
            "The square of 138 is 19044\n",
            "The square of 140 is 19600\n",
            "The square of 142 is 20164\n",
            "The square of 144 is 20736\n",
            "The square of 146 is 21316\n",
            "The square of 148 is 21904\n",
            "The square of 150 is 22500\n",
            "The square of 152 is 23104\n",
            "The square of 154 is 23716\n",
            "The square of 156 is 24336\n",
            "The square of 158 is 24964\n",
            "The square of 160 is 25600\n",
            "The square of 162 is 26244\n",
            "The square of 164 is 26896\n",
            "The square of 166 is 27556\n",
            "The square of 168 is 28224\n",
            "The square of 170 is 28900\n",
            "The square of 172 is 29584\n",
            "The square of 174 is 30276\n",
            "The square of 176 is 30976\n",
            "The square of 178 is 31684\n",
            "The square of 180 is 32400\n",
            "The square of 182 is 33124\n",
            "The square of 184 is 33856\n",
            "The square of 186 is 34596\n",
            "The square of 188 is 35344\n",
            "The square of 190 is 36100\n",
            "The square of 192 is 36864\n",
            "The square of 194 is 37636\n",
            "The square of 196 is 38416\n",
            "The square of 198 is 39204\n"
          ]
        }
      ]
    },
    {
      "cell_type": "markdown",
      "source": [
        "Squares of Odd Numbers"
      ],
      "metadata": {
        "id": "kAUsZt06iC-K"
      }
    },
    {
      "cell_type": "code",
      "source": [
        "for number in range(100, 200):\n",
        "  if number % 2 != 0:  # Check if the number is odd\n",
        "    square = number ** 2\n",
        "    print(f\"The square of {number} is {square}\")"
      ],
      "metadata": {
        "colab": {
          "base_uri": "https://localhost:8080/"
        },
        "id": "0yjRDT9KhpYt",
        "outputId": "f63a61ba-e85a-4770-cc9c-c8e2169b302b"
      },
      "execution_count": 14,
      "outputs": [
        {
          "output_type": "stream",
          "name": "stdout",
          "text": [
            "The square of 101 is 10201\n",
            "The square of 103 is 10609\n",
            "The square of 105 is 11025\n",
            "The square of 107 is 11449\n",
            "The square of 109 is 11881\n",
            "The square of 111 is 12321\n",
            "The square of 113 is 12769\n",
            "The square of 115 is 13225\n",
            "The square of 117 is 13689\n",
            "The square of 119 is 14161\n",
            "The square of 121 is 14641\n",
            "The square of 123 is 15129\n",
            "The square of 125 is 15625\n",
            "The square of 127 is 16129\n",
            "The square of 129 is 16641\n",
            "The square of 131 is 17161\n",
            "The square of 133 is 17689\n",
            "The square of 135 is 18225\n",
            "The square of 137 is 18769\n",
            "The square of 139 is 19321\n",
            "The square of 141 is 19881\n",
            "The square of 143 is 20449\n",
            "The square of 145 is 21025\n",
            "The square of 147 is 21609\n",
            "The square of 149 is 22201\n",
            "The square of 151 is 22801\n",
            "The square of 153 is 23409\n",
            "The square of 155 is 24025\n",
            "The square of 157 is 24649\n",
            "The square of 159 is 25281\n",
            "The square of 161 is 25921\n",
            "The square of 163 is 26569\n",
            "The square of 165 is 27225\n",
            "The square of 167 is 27889\n",
            "The square of 169 is 28561\n",
            "The square of 171 is 29241\n",
            "The square of 173 is 29929\n",
            "The square of 175 is 30625\n",
            "The square of 177 is 31329\n",
            "The square of 179 is 32041\n",
            "The square of 181 is 32761\n",
            "The square of 183 is 33489\n",
            "The square of 185 is 34225\n",
            "The square of 187 is 34969\n",
            "The square of 189 is 35721\n",
            "The square of 191 is 36481\n",
            "The square of 193 is 37249\n",
            "The square of 195 is 38025\n",
            "The square of 197 is 38809\n",
            "The square of 199 is 39601\n"
          ]
        }
      ]
    },
    {
      "cell_type": "markdown",
      "source": [
        "Exercise 4: Word counter"
      ],
      "metadata": {
        "id": "6VvkhPrQiaUw"
      }
    },
    {
      "cell_type": "code",
      "source": [
        "import re\n",
        "from collections import Counter\n",
        "text = \"This is a sample text. This text will be used to demonstrate the word counter.\"\n",
        "words = re.findall(r'\\b\\w+\\b', text)\n",
        "word_counts = Counter(words)\n",
        "print(word_counts)"
      ],
      "metadata": {
        "colab": {
          "base_uri": "https://localhost:8080/"
        },
        "id": "fItnlqjHkRyt",
        "outputId": "ec06c74e-a2fb-4b20-e765-4e9b0e9ba40c"
      },
      "execution_count": 25,
      "outputs": [
        {
          "output_type": "stream",
          "name": "stdout",
          "text": [
            "Counter({'This': 2, 'text': 2, 'is': 1, 'a': 1, 'sample': 1, 'will': 1, 'be': 1, 'used': 1, 'to': 1, 'demonstrate': 1, 'the': 1, 'word': 1, 'counter': 1})\n"
          ]
        }
      ]
    },
    {
      "cell_type": "markdown",
      "source": [
        "Exercise 5: Check for Palindrome"
      ],
      "metadata": {
        "id": "DMRhQwV_lF3j"
      }
    },
    {
      "cell_type": "code",
      "source": [
        "\n",
        "import re\n",
        "\n",
        "def is_palindrome(text):\n",
        "\n",
        "  return text == text[::-1]\n",
        "\n",
        "# Example usage\n",
        "print(is_palindrome(\"racecar\"))\n",
        "print(is_palindrome(\"A man, a plan, a canal: Panama\"))\n",
        "print(is_palindrome(\"hello\"))\n",
        "print(is_palindrome(\"madam\"))\n",
        "print(is_palindrome(\"12321\"))"
      ],
      "metadata": {
        "colab": {
          "base_uri": "https://localhost:8080/"
        },
        "id": "9i4qd0LYlQ3V",
        "outputId": "aaaf1b98-a243-49cb-c49b-d43076713d13"
      },
      "execution_count": 32,
      "outputs": [
        {
          "output_type": "stream",
          "name": "stdout",
          "text": [
            "True\n",
            "False\n",
            "False\n",
            "True\n",
            "True\n"
          ]
        }
      ]
    },
    {
      "cell_type": "code",
      "source": [],
      "metadata": {
        "id": "Jl_DZWr3l7qE"
      },
      "execution_count": null,
      "outputs": []
    }
  ]
}